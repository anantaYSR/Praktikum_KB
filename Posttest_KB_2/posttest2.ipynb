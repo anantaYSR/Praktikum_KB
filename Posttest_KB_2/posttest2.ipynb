{
 "cells": [
  {
   "cell_type": "code",
   "execution_count": null,
   "metadata": {},
   "outputs": [],
   "source": []
  },
  {
   "cell_type": "markdown",
   "metadata": {},
   "source": [
    "POSTTEST 2\n",
    "\n",
    "Nama : Ananta Yusra Putra Akmal \n",
    "NIM : 2109106024\n",
    "Kelas : A1 2021\n",
    "\n",
    "Dataset = Credit Risk/Resiko Kredit"
   ]
  },
  {
   "cell_type": "code",
   "execution_count": null,
   "metadata": {},
   "outputs": [],
   "source": [
    "#Menampilkan INFO\n",
    "import pandas as pd\n",
    "import numpy as np\n",
    "\n",
    "from prettytable import PrettyTable\n",
    "\n",
    "df = pd.read_csv(\"Before_credit_risk_dataset.csv\")\n",
    "\n",
    "df.info()"
   ]
  },
  {
   "cell_type": "markdown",
   "metadata": {},
   "source": [
    "                            Point 1 dan 2\n",
    "Menampilkan :\n",
    "\n",
    "* Jumlah Record, Nama Attribut, Jumlah Attribut dengan Tipe Objek, Jumlah Attribute dengan Tipe Angka, Jumlah Attribute dengan Nilai NULL\n",
    "\n",
    "* Data diatas dimasukkan ke dalam dictionary\n",
    "\n",
    "Solusi :\n",
    "\n",
    "* Menampilkan Jumlah Record yang merupakan jumlah baris dan kolom menggunakan df.shape\n",
    "\n",
    "* Menampilkan Nama Attribut dari setiap kolom dengan menggunakan df.columns.values\n",
    "\n",
    "* Menampilkan Jumlah Attribut yang menggunakan Tipe Objek dengan df.select_dtypes([\"object\"]).columns\n",
    "\n",
    "* Menampilkan Jumlah Attribut yang menggunakan Tipe Angka dengan df.select_dtypes([\"int64\", \"float64\"]).columns)\n",
    "\n",
    "* Menampilkan jumlah Attribut yang terdapat Nilai NULL df.loc[:, df.isnull().any()].columns"
   ]
  },
  {
   "cell_type": "code",
   "execution_count": null,
   "metadata": {},
   "outputs": [],
   "source": [
    "information_data = {\n",
    "    \"Jumah Record\"                 : df.shape[0],\n",
    "    \"Nama Attribute\"               : list(df.columns.values),\n",
    "    \"Jumlhah Attribute Tipe Objek\" : list(df.select_dtypes([\"object\"]).columns),\n",
    "    \"Jumlah Attribute Tipe Angka\"  : list(df.select_dtypes([\"int64\", \"float64\"]).columns),\n",
    "    \"Jumlah Attribute Null\"        : list(df.loc[:, df.isnull().any()].columns),\n",
    "}\n",
    "\n",
    "keys = list(information_data.keys())\n",
    "\n",
    "# Membuat PrettyTable\n",
    "information_dataTable = PrettyTable()\n",
    "information_dataTable.field_names = [\"Information\", \"Atribute\", \"\\Jumalah\"]\n",
    "\n",
    "# Memasukkan nilai-nilai\n",
    "information_dataTable.add_row([keys[0], \"-\", information_data[keys[0]]])\n",
    "\n",
    "for i in range(1, 5):\n",
    "    information_dataTable.add_row([keys[i], \", \\n\".join(information_data[keys[i]]), len(information_data[keys[i]])])\n",
    "    \n",
    "print(information_dataTable)"
   ]
  },
  {
   "cell_type": "markdown",
   "metadata": {},
   "source": [
    "                                Point 3\n",
    "Menampilkan :\n",
    "\n",
    "* Rata-rata, Standar deviasi, Nilai minimum, NIlai maksimum, Q1, Q2, dan Q3, Dari Attribut bertipe angka\n",
    "\n",
    "Solusi :\n",
    "\n",
    "Menggunakan df.describe() perintah ini untuk mendapatkan ringkasan statistik seperti perhitungan jumlah, rata-rata, standar deviasi, nilai minimum,"
   ]
  },
  {
   "cell_type": "code",
   "execution_count": null,
   "metadata": {},
   "outputs": [],
   "source": [
    "df.describe()"
   ]
  },
  {
   "cell_type": "markdown",
   "metadata": {},
   "source": [
    "                                Point 4\n",
    "Menampilkan :\n",
    "* nilai Korelasi dari attribut bertipe angka\n",
    "\n",
    "Solusi :\n",
    "\n",
    "Menggunakan df.corr() perintah ini untuk menampilkan nilai korelasi dari kolom yang bertipe angka"
   ]
  },
  {
   "cell_type": "code",
   "execution_count": null,
   "metadata": {},
   "outputs": [],
   "source": [
    "df.corr()"
   ]
  },
  {
   "cell_type": "markdown",
   "metadata": {},
   "source": [
    "                                Point 5\n",
    "Perubahan :\n",
    "\n",
    "* Mengubah nilai int64 menjadi nilai float64\n",
    "\n",
    "Solusi :\n",
    "\n",
    "Menggunakan df[\"nama kolom\"].astype(\"tipe data yang diinginkan\") perintah ini dapat melakukan konversi tipe data"
   ]
  },
  {
   "cell_type": "code",
   "execution_count": null,
   "metadata": {},
   "outputs": [],
   "source": [
    "df[\"loan_amnt\"] = df[\"loan_amnt\"].astype(\"float64\")\n",
    "\n",
    "df[\"loan_amnt\"].dtypes"
   ]
  },
  {
   "cell_type": "markdown",
   "metadata": {},
   "source": [
    "Masalah :\n",
    "* float hanyak menambahkan 1 angka 0 di belakang koma.\n",
    "\n",
    "Solusi :\n",
    "\n",
    "Karena float hanya dapat menampilkan 1 angka dibelakang koma,\n",
    "Maka untuk menambahkan 3 angka dibelakang koma df[\"nama kolom\"] = df[\"nama kolom\"].map('{:.3f}'.format)"
   ]
  },
  {
   "cell_type": "code",
   "execution_count": null,
   "metadata": {},
   "outputs": [],
   "source": [
    "df[\"loan_amnt\"] = df[\"loan_amnt\"].map('{:.3f}'.format)"
   ]
  },
  {
   "cell_type": "markdown",
   "metadata": {},
   "source": [
    "                                Point 6\n",
    "Menampilkan :\n",
    "* Menampilkan 10 record pertama dari attribut bertipe angka\n",
    "\n",
    "Solusi : \n",
    "\n",
    "Menggunakan df.head() perintah ini dapat menampilkan 10 record pertama"
   ]
  },
  {
   "cell_type": "code",
   "execution_count": null,
   "metadata": {},
   "outputs": [],
   "source": [
    "df_number = df[information_data[keys[3]]]\n",
    "df_number.head(10)"
   ]
  },
  {
   "cell_type": "markdown",
   "metadata": {},
   "source": [
    "                            Point 7\n",
    "Menyimpan :\n",
    "* Menyimpan dataset dengan attribut bertipe angka ke dalam file .csv\n",
    "\n",
    "Solusi :\n",
    "\n",
    "Menggunakan df.to_csv(\"Nama File Yang Baru Diinginkan\")"
   ]
  },
  {
   "cell_type": "code",
   "execution_count": null,
   "metadata": {},
   "outputs": [],
   "source": [
    "df_number.to_csv(\"After_credit_risk_dataset.csv\")\n",
    "\n",
    "df_result = pd.read_csv(\"After_credit_risk_dataset.csv\")\n",
    "df_result.info()"
   ]
  }
 ],
 "metadata": {
  "kernelspec": {
   "display_name": "ananta_024",
   "language": "python",
   "name": "ananta_024"
  },
  "language_info": {
   "codemirror_mode": {
    "name": "ipython",
    "version": 3
   },
   "file_extension": ".py",
   "mimetype": "text/x-python",
   "name": "python",
   "nbconvert_exporter": "python",
   "pygments_lexer": "ipython3",
   "version": "3.10.7"
  },
  "orig_nbformat": 4,
  "vscode": {
   "interpreter": {
    "hash": "4bc3c14535ba198ac403d8b0a5a2d23428a5da826104b9a0c9c35d272c2c2677"
   }
  }
 },
 "nbformat": 4,
 "nbformat_minor": 2
}
