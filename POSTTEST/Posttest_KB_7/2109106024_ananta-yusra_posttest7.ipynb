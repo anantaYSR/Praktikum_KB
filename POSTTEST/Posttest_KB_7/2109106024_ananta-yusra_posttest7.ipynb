{
 "cells": [
  {
   "cell_type": "markdown",
   "metadata": {},
   "source": [
    "# POSTTEST 7\n",
    "\n",
    "* Nama  : Ananta Yusra Putra Akmal \n",
    "* NIM   : 2109106024\n",
    "* Kelas : A1 2021\n",
    "\n",
    "* Dataset = Credit Risk"
   ]
  },
  {
   "cell_type": "code",
   "execution_count": 200,
   "metadata": {},
   "outputs": [],
   "source": [
    "import tensorflow as tf"
   ]
  },
  {
   "cell_type": "markdown",
   "metadata": {},
   "source": [
    "### Random Tensor"
   ]
  },
  {
   "cell_type": "code",
   "execution_count": 201,
   "metadata": {},
   "outputs": [
    {
     "data": {
      "text/plain": [
       "array([[1.5735742 , 1.9511913 , 1.9638216 , 1.1887481 , 0.3123684 ],\n",
       "       [1.2139575 , 2.6426644 , 0.963747  , 1.0621202 , 2.7395182 ],\n",
       "       [2.5178688 , 1.6478394 , 1.6229796 , 1.3536284 , 1.4238756 ],\n",
       "       [2.1892867 , 2.1826725 , 0.9898578 , 2.4929252 , 2.6479342 ],\n",
       "       [0.85567963, 1.8886095 , 0.7567375 , 2.101771  , 1.1071188 ]],\n",
       "      dtype=float32)"
      ]
     },
     "execution_count": 201,
     "metadata": {},
     "output_type": "execute_result"
    }
   ],
   "source": [
    "random_tensor = tf.random.normal([5,5], mean=2)\n",
    "random_tensor.numpy()"
   ]
  },
  {
   "cell_type": "markdown",
   "metadata": {},
   "source": [
    "### Constan Tensor"
   ]
  },
  {
   "cell_type": "code",
   "execution_count": 202,
   "metadata": {},
   "outputs": [
    {
     "data": {
      "text/plain": [
       "array([[  2.,   3.,   5.,   7.,  11.],\n",
       "       [ 13.,  17.,  19.,  23.,  29.],\n",
       "       [ 31.,  37.,  41.,  43.,  47.],\n",
       "       [ 53.,  59.,  61.,  71.,  73.],\n",
       "       [ 79.,  83.,  89.,  97., 101.]], dtype=float32)"
      ]
     },
     "execution_count": 202,
     "metadata": {},
     "output_type": "execute_result"
    }
   ],
   "source": [
    "# Shape 5 x 5 maka total bilangan = 25\n",
    "\n",
    "prime_tensor = tf.constant([2,3,5,7,11,13,17,19,23,29,31,37,41,43,47,53,59,61,71,73,79,83,89,97,101],shape=(5,5),dtype=tf.float32)\n",
    "prime_tensor.numpy()"
   ]
  },
  {
   "cell_type": "markdown",
   "metadata": {},
   "source": [
    "### Dimensi Tensor Random & Tensor Constan"
   ]
  },
  {
   "cell_type": "code",
   "execution_count": 203,
   "metadata": {},
   "outputs": [
    {
     "name": "stdout",
     "output_type": "stream",
     "text": [
      "Random  :  (5, 5)\n",
      "Constan :  (5, 5)\n"
     ]
    }
   ],
   "source": [
    "print(\"Random  : \",random_tensor.shape)\n",
    "print(\"Constan : \",prime_tensor.shape)"
   ]
  },
  {
   "cell_type": "markdown",
   "metadata": {},
   "source": [
    "### Perhituangan Aritmatika Tensor Random & Tensor Constan"
   ]
  },
  {
   "cell_type": "code",
   "execution_count": 204,
   "metadata": {},
   "outputs": [
    {
     "name": "stdout",
     "output_type": "stream",
     "text": [
      "Penjumlahan :\n"
     ]
    },
    {
     "data": {
      "text/plain": [
       "array([[  3.573574 ,   4.9511914,   6.9638214,   8.188748 ,  11.312368 ],\n",
       "       [ 14.213958 ,  19.642664 ,  19.963747 ,  24.06212  ,  31.739517 ],\n",
       "       [ 33.517868 ,  38.64784  ,  42.62298  ,  44.35363  ,  48.423874 ],\n",
       "       [ 55.189285 ,  61.18267  ,  61.989857 ,  73.49293  ,  75.647934 ],\n",
       "       [ 79.85568  ,  84.88861  ,  89.75674  ,  99.10177  , 102.10712  ]],\n",
       "      dtype=float32)"
      ]
     },
     "execution_count": 204,
     "metadata": {},
     "output_type": "execute_result"
    }
   ],
   "source": [
    "print(\"Penjumlahan :\")\n",
    "tf.add(random_tensor,prime_tensor).numpy()"
   ]
  },
  {
   "cell_type": "code",
   "execution_count": 205,
   "metadata": {},
   "outputs": [
    {
     "name": "stdout",
     "output_type": "stream",
     "text": [
      "Pengurangan :\n"
     ]
    },
    {
     "data": {
      "text/plain": [
       "array([[ -0.4264258,  -1.0488087,  -3.0361784,  -5.8112516, -10.687632 ],\n",
       "       [-11.786042 , -14.357336 , -18.036253 , -21.93788  , -26.260483 ],\n",
       "       [-28.482132 , -35.35216  , -39.37702  , -41.64637  , -45.576126 ],\n",
       "       [-50.810715 , -56.81733  , -60.010143 , -68.50707  , -70.352066 ],\n",
       "       [-78.14432  , -81.11139  , -88.24326  , -94.89823  , -99.89288  ]],\n",
       "      dtype=float32)"
      ]
     },
     "execution_count": 205,
     "metadata": {},
     "output_type": "execute_result"
    }
   ],
   "source": [
    "print(\"Pengurangan :\")\n",
    "tf.subtract(random_tensor,prime_tensor).numpy()"
   ]
  },
  {
   "cell_type": "code",
   "execution_count": 206,
   "metadata": {},
   "outputs": [
    {
     "name": "stdout",
     "output_type": "stream",
     "text": [
      "Perkalian :\n"
     ]
    },
    {
     "data": {
      "text/plain": [
       "array([[  3.1471484,   5.853574 ,   9.819108 ,   8.321237 ,   3.4360523],\n",
       "       [ 15.781448 ,  44.925297 ,  18.311193 ,  24.428764 ,  79.44603  ],\n",
       "       [ 78.05393  ,  60.97006  ,  66.54217  ,  58.20602  ,  66.92215  ],\n",
       "       [116.032196 , 128.77768  ,  60.381325 , 176.99768  , 193.2992   ],\n",
       "       [ 67.598694 , 156.7546   ,  67.34963  , 203.8718   , 111.819    ]],\n",
       "      dtype=float32)"
      ]
     },
     "execution_count": 206,
     "metadata": {},
     "output_type": "execute_result"
    }
   ],
   "source": [
    "print(\"Perkalian :\")\n",
    "tf.multiply(random_tensor,prime_tensor).numpy()"
   ]
  },
  {
   "cell_type": "code",
   "execution_count": 207,
   "metadata": {},
   "outputs": [
    {
     "name": "stdout",
     "output_type": "stream",
     "text": [
      "Pembagian :\n"
     ]
    },
    {
     "data": {
      "text/plain": [
       "array([[0.7867871 , 0.6503971 , 0.39276433, 0.16982116, 0.02839713],\n",
       "       [0.09338135, 0.15545085, 0.05072353, 0.04617914, 0.09446614],\n",
       "       [0.08122157, 0.0445362 , 0.03958487, 0.03147973, 0.03029522],\n",
       "       [0.0413073 , 0.03699445, 0.01622718, 0.03511162, 0.03627307],\n",
       "       [0.01083139, 0.02275433, 0.00850267, 0.02166774, 0.01096157]],\n",
       "      dtype=float32)"
      ]
     },
     "execution_count": 207,
     "metadata": {},
     "output_type": "execute_result"
    }
   ],
   "source": [
    "print(\"Pembagian :\")\n",
    "tf.divide(random_tensor,prime_tensor).numpy()"
   ]
  },
  {
   "cell_type": "code",
   "execution_count": 208,
   "metadata": {},
   "outputs": [
    {
     "name": "stdout",
     "output_type": "stream",
     "text": [
      "Penjumlahan :\n"
     ]
    },
    {
     "data": {
      "text/plain": [
       "array([[2.4761357e+00, 7.4284730e+00, 2.9208565e+01, 3.3545086e+00,\n",
       "        2.7627266e-06],\n",
       "       [1.2434992e+01, 1.4952518e+07, 4.9579021e-01, 3.9993956e+00,\n",
       "        4.9266457e+12],\n",
       "       [2.7041186e+12, 1.0613312e+08, 4.1960045e+08, 4.5131175e+05,\n",
       "        1.6337508e+07],\n",
       "       [1.0865256e+18, 1.0007510e+20, 5.3695911e-01, 1.4667503e+28,\n",
       "        7.4511750e+30],\n",
       "       [4.4934959e-06, 8.3138206e+22, 1.6831633e-11, 1.9533752e+31,\n",
       "        2.9081617e+04]], dtype=float32)"
      ]
     },
     "execution_count": 208,
     "metadata": {},
     "output_type": "execute_result"
    }
   ],
   "source": [
    "print(\"Penjumlahan :\")\n",
    "tf.pow(random_tensor,prime_tensor).numpy()"
   ]
  },
  {
   "cell_type": "code",
   "execution_count": 209,
   "metadata": {},
   "outputs": [
    {
     "name": "stdout",
     "output_type": "stream",
     "text": [
      "Perkalian + Penjumlahan :\n",
      "tf.Tensor(\n",
      "[[  6.720722  10.804766  16.782928  16.509985  14.748421]\n",
      " [ 29.995407  64.56796   38.27494   48.490883 111.18555 ]\n",
      " [111.5718    99.6179   109.165146 102.55965  115.34602 ]\n",
      " [171.22148  189.96036  122.371185 250.4906   268.94714 ]\n",
      " [147.45438  241.6432   157.10637  302.97357  213.92612 ]], shape=(5, 5), dtype=float32)\n"
     ]
    }
   ],
   "source": [
    "print(\"Perkalian + Penjumlahan :\")\n",
    "\n",
    "a = tf.multiply(prime_tensor,random_tensor) + tf.add(prime_tensor, random_tensor)\n",
    "print(a)"
   ]
  },
  {
   "cell_type": "markdown",
   "metadata": {},
   "source": [
    "### Nilai Max & Min Tensor Random"
   ]
  },
  {
   "cell_type": "markdown",
   "metadata": {},
   "source": [
    "* Nilai Maximum"
   ]
  },
  {
   "cell_type": "code",
   "execution_count": 210,
   "metadata": {},
   "outputs": [
    {
     "data": {
      "text/plain": [
       "array([2, 1, 0, 3, 1], dtype=int64)"
      ]
     },
     "execution_count": 210,
     "metadata": {},
     "output_type": "execute_result"
    }
   ],
   "source": [
    "max = tf.argmax(random_tensor)\n",
    "max.numpy()"
   ]
  },
  {
   "cell_type": "code",
   "execution_count": 211,
   "metadata": {},
   "outputs": [
    {
     "data": {
      "text/plain": [
       "2.7395182"
      ]
     },
     "execution_count": 211,
     "metadata": {},
     "output_type": "execute_result"
    }
   ],
   "source": [
    "max1 = tf.reduce_max(random_tensor)\n",
    "max1.numpy()\n"
   ]
  },
  {
   "cell_type": "markdown",
   "metadata": {},
   "source": [
    "* Nilai Minimum"
   ]
  },
  {
   "cell_type": "code",
   "execution_count": 212,
   "metadata": {},
   "outputs": [
    {
     "data": {
      "text/plain": [
       "array([4, 2, 4, 1, 0], dtype=int64)"
      ]
     },
     "execution_count": 212,
     "metadata": {},
     "output_type": "execute_result"
    }
   ],
   "source": [
    "min = tf.argmin(random_tensor)\n",
    "min.numpy()"
   ]
  },
  {
   "cell_type": "code",
   "execution_count": 213,
   "metadata": {},
   "outputs": [
    {
     "data": {
      "text/plain": [
       "0.3123684"
      ]
     },
     "execution_count": 213,
     "metadata": {},
     "output_type": "execute_result"
    }
   ],
   "source": [
    "min1 = tf.reduce_min(random_tensor)\n",
    "min1.numpy()"
   ]
  },
  {
   "cell_type": "markdown",
   "metadata": {},
   "source": [
    "### Concatenation Tensor Random & Tensor Prime"
   ]
  },
  {
   "cell_type": "code",
   "execution_count": 214,
   "metadata": {},
   "outputs": [
    {
     "data": {
      "text/plain": [
       "array([[  2.        ,   3.        ,   5.        ,   7.        ,\n",
       "         11.        ,   1.5735742 ,   1.9511913 ,   1.9638216 ,\n",
       "          1.1887481 ,   0.3123684 ],\n",
       "       [ 13.        ,  17.        ,  19.        ,  23.        ,\n",
       "         29.        ,   1.2139575 ,   2.6426644 ,   0.963747  ,\n",
       "          1.0621202 ,   2.7395182 ],\n",
       "       [ 31.        ,  37.        ,  41.        ,  43.        ,\n",
       "         47.        ,   2.5178688 ,   1.6478394 ,   1.6229796 ,\n",
       "          1.3536284 ,   1.4238756 ],\n",
       "       [ 53.        ,  59.        ,  61.        ,  71.        ,\n",
       "         73.        ,   2.1892867 ,   2.1826725 ,   0.9898578 ,\n",
       "          2.4929252 ,   2.6479342 ],\n",
       "       [ 79.        ,  83.        ,  89.        ,  97.        ,\n",
       "        101.        ,   0.85567963,   1.8886095 ,   0.7567375 ,\n",
       "          2.101771  ,   1.1071188 ]], dtype=float32)"
      ]
     },
     "execution_count": 214,
     "metadata": {},
     "output_type": "execute_result"
    }
   ],
   "source": [
    "concat = tf.concat([prime_tensor,random_tensor], axis=1)\n",
    "concat.numpy()"
   ]
  },
  {
   "cell_type": "markdown",
   "metadata": {},
   "source": [
    "### Sorting Tensor Random & Tensor Prime Secara Descending"
   ]
  },
  {
   "cell_type": "markdown",
   "metadata": {},
   "source": [
    "* Sorting Tensor Random"
   ]
  },
  {
   "cell_type": "code",
   "execution_count": 218,
   "metadata": {},
   "outputs": [
    {
     "data": {
      "text/plain": [
       "array([[1.9638216 , 1.9511913 , 1.5735742 , 1.1887481 , 0.3123684 ],\n",
       "       [2.7395182 , 2.6426644 , 1.2139575 , 1.0621202 , 0.963747  ],\n",
       "       [2.5178688 , 1.6478394 , 1.6229796 , 1.4238756 , 1.3536284 ],\n",
       "       [2.6479342 , 2.4929252 , 2.1892867 , 2.1826725 , 0.9898578 ],\n",
       "       [2.101771  , 1.8886095 , 1.1071188 , 0.85567963, 0.7567375 ]],\n",
       "      dtype=float32)"
      ]
     },
     "execution_count": 218,
     "metadata": {},
     "output_type": "execute_result"
    }
   ],
   "source": [
    "# Descending dari kanan ke kiri\n",
    "random_sort = tf.sort(random_tensor, direction=\"DESCENDING\")\n",
    "random_sort.numpy()"
   ]
  },
  {
   "cell_type": "markdown",
   "metadata": {},
   "source": [
    "* Sorting Tensor Prime"
   ]
  },
  {
   "cell_type": "code",
   "execution_count": 216,
   "metadata": {},
   "outputs": [
    {
     "data": {
      "text/plain": [
       "array([[ 11.,   7.,   5.,   3.,   2.],\n",
       "       [ 29.,  23.,  19.,  17.,  13.],\n",
       "       [ 47.,  43.,  41.,  37.,  31.],\n",
       "       [ 73.,  71.,  61.,  59.,  53.],\n",
       "       [101.,  97.,  89.,  83.,  79.]], dtype=float32)"
      ]
     },
     "execution_count": 216,
     "metadata": {},
     "output_type": "execute_result"
    }
   ],
   "source": [
    "# Descending dari atas ke bawah\n",
    "prime_sort = tf.sort(prime_tensor, direction=\"DESCENDING\")\n",
    "prime_sort.numpy()"
   ]
  },
  {
   "cell_type": "markdown",
   "metadata": {},
   "source": [
    "* Sorting Concatenation (penggabungan)"
   ]
  },
  {
   "cell_type": "code",
   "execution_count": 217,
   "metadata": {},
   "outputs": [
    {
     "data": {
      "text/plain": [
       "array([[ 11.        ,   7.        ,   5.        ,   3.        ,\n",
       "          2.        ,   1.9638216 ,   1.9511913 ,   1.5735742 ,\n",
       "          1.1887481 ,   0.3123684 ],\n",
       "       [ 29.        ,  23.        ,  19.        ,  17.        ,\n",
       "         13.        ,   2.7395182 ,   2.6426644 ,   1.2139575 ,\n",
       "          1.0621202 ,   0.963747  ],\n",
       "       [ 47.        ,  43.        ,  41.        ,  37.        ,\n",
       "         31.        ,   2.5178688 ,   1.6478394 ,   1.6229796 ,\n",
       "          1.4238756 ,   1.3536284 ],\n",
       "       [ 73.        ,  71.        ,  61.        ,  59.        ,\n",
       "         53.        ,   2.6479342 ,   2.4929252 ,   2.1892867 ,\n",
       "          2.1826725 ,   0.9898578 ],\n",
       "       [101.        ,  97.        ,  89.        ,  83.        ,\n",
       "         79.        ,   2.101771  ,   1.8886095 ,   1.1071188 ,\n",
       "          0.85567963,   0.7567375 ]], dtype=float32)"
      ]
     },
     "execution_count": 217,
     "metadata": {},
     "output_type": "execute_result"
    }
   ],
   "source": [
    "sort = tf.sort(concat, direction=\"DESCENDING\")\n",
    "sort.numpy()"
   ]
  }
 ],
 "metadata": {
  "kernelspec": {
   "display_name": "Python 3",
   "language": "python",
   "name": "python3"
  },
  "language_info": {
   "codemirror_mode": {
    "name": "ipython",
    "version": 3
   },
   "file_extension": ".py",
   "mimetype": "text/x-python",
   "name": "python",
   "nbconvert_exporter": "python",
   "pygments_lexer": "ipython3",
   "version": "3.10.7"
  },
  "orig_nbformat": 4,
  "vscode": {
   "interpreter": {
    "hash": "4bc3c14535ba198ac403d8b0a5a2d23428a5da826104b9a0c9c35d272c2c2677"
   }
  }
 },
 "nbformat": 4,
 "nbformat_minor": 2
}
