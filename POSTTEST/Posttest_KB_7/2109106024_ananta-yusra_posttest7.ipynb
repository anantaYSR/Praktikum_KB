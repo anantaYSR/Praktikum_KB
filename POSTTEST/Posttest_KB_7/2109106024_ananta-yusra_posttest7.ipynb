{
 "cells": [
  {
   "cell_type": "markdown",
   "metadata": {},
   "source": [
    "# POSTTEST 7\n",
    "\n",
    "* Nama  : Ananta Yusra Putra Akmal \n",
    "* NIM   : 2109106024\n",
    "* Kelas : A1 2021\n",
    "\n",
    "* Dataset = Credit Risk"
   ]
  },
  {
   "cell_type": "code",
   "execution_count": 43,
   "metadata": {},
   "outputs": [],
   "source": [
    "import tensorflow as tf"
   ]
  },
  {
   "cell_type": "markdown",
   "metadata": {},
   "source": [
    "### Random Tensor"
   ]
  },
  {
   "cell_type": "code",
   "execution_count": 44,
   "metadata": {},
   "outputs": [
    {
     "data": {
      "text/plain": [
       "array([[-0.260854  ,  0.83830476, -1.1754787 ,  0.3226311 , -0.47526172],\n",
       "       [-0.20888259,  0.20542455,  0.03153803,  1.0983171 ,  0.30674398],\n",
       "       [ 0.26827812, -0.41831833,  0.5496434 ,  1.8365399 ,  0.5430508 ],\n",
       "       [ 0.25515908, -0.4099539 , -0.7360904 ,  0.16072926,  0.5887899 ],\n",
       "       [ 0.77006024,  1.0538839 , -2.321138  , -0.9837617 , -0.6619904 ]],\n",
       "      dtype=float32)"
      ]
     },
     "execution_count": 44,
     "metadata": {},
     "output_type": "execute_result"
    }
   ],
   "source": [
    "random_tensor = tf.random.normal([5,5])\n",
    "random_tensor.numpy()"
   ]
  },
  {
   "cell_type": "markdown",
   "metadata": {},
   "source": [
    "### Constan Tensor"
   ]
  },
  {
   "cell_type": "code",
   "execution_count": 45,
   "metadata": {},
   "outputs": [
    {
     "data": {
      "text/plain": [
       "array([[  2.,   3.,   5.,   7.,  11.],\n",
       "       [ 13.,  17.,  19.,  23.,  29.],\n",
       "       [ 31.,  37.,  41.,  43.,  47.],\n",
       "       [ 53.,  59.,  61.,  71.,  73.],\n",
       "       [ 79.,  83.,  89.,  97., 101.]], dtype=float32)"
      ]
     },
     "execution_count": 45,
     "metadata": {},
     "output_type": "execute_result"
    }
   ],
   "source": [
    "# Shape 5 x 5 maka total bilangan = 25\n",
    "\n",
    "prime_tensor = tf.constant([2,3,5,7,11,13,17,19,23,29,31,37,41,43,47,53,59,61,71,73,79,83,89,97,101],shape=(5,5),dtype=tf.float32)\n",
    "prime_tensor.numpy()"
   ]
  },
  {
   "cell_type": "markdown",
   "metadata": {},
   "source": [
    "### Dimensi Tensor Random & Tensor Constan"
   ]
  },
  {
   "cell_type": "code",
   "execution_count": 46,
   "metadata": {},
   "outputs": [
    {
     "name": "stdout",
     "output_type": "stream",
     "text": [
      "Random  :  (5, 5)\n",
      "Constan :  (5, 5)\n"
     ]
    }
   ],
   "source": [
    "print(\"Random  : \",random_tensor.shape)\n",
    "print(\"Constan : \",prime_tensor.shape)"
   ]
  },
  {
   "cell_type": "markdown",
   "metadata": {},
   "source": [
    "### Perhituangan Aritmatika Tensor Random & Tensor Constan"
   ]
  },
  {
   "cell_type": "code",
   "execution_count": 47,
   "metadata": {},
   "outputs": [
    {
     "name": "stdout",
     "output_type": "stream",
     "text": [
      "Penjumlahan :\n"
     ]
    },
    {
     "data": {
      "text/plain": [
       "array([[  1.739146 ,   3.8383048,   3.8245213,   7.322631 ,  10.524738 ],\n",
       "       [ 12.791118 ,  17.205425 ,  19.031538 ,  24.098316 ,  29.306744 ],\n",
       "       [ 31.268278 ,  36.58168  ,  41.549644 ,  44.83654  ,  47.543053 ],\n",
       "       [ 53.255157 ,  58.590046 ,  60.26391  ,  71.16073  ,  73.58879  ],\n",
       "       [ 79.77006  ,  84.05389  ,  86.67886  ,  96.016235 , 100.33801  ]],\n",
       "      dtype=float32)"
      ]
     },
     "execution_count": 47,
     "metadata": {},
     "output_type": "execute_result"
    }
   ],
   "source": [
    "print(\"Penjumlahan :\")\n",
    "tf.add(random_tensor,prime_tensor).numpy()"
   ]
  },
  {
   "cell_type": "code",
   "execution_count": 48,
   "metadata": {},
   "outputs": [
    {
     "name": "stdout",
     "output_type": "stream",
     "text": [
      "Pengurangan :\n"
     ]
    },
    {
     "data": {
      "text/plain": [
       "array([[  -2.260854 ,   -2.1616952,   -6.175479 ,   -6.677369 ,\n",
       "         -11.475262 ],\n",
       "       [ -13.208882 ,  -16.794575 ,  -18.968462 ,  -21.901684 ,\n",
       "         -28.693256 ],\n",
       "       [ -30.731722 ,  -37.41832  ,  -40.450356 ,  -41.16346  ,\n",
       "         -46.456947 ],\n",
       "       [ -52.744843 ,  -59.409954 ,  -61.73609  ,  -70.83927  ,\n",
       "         -72.41121  ],\n",
       "       [ -78.22994  ,  -81.94611  ,  -91.32114  ,  -97.983765 ,\n",
       "        -101.66199  ]], dtype=float32)"
      ]
     },
     "execution_count": 48,
     "metadata": {},
     "output_type": "execute_result"
    }
   ],
   "source": [
    "print(\"Pengurangan :\")\n",
    "tf.subtract(random_tensor,prime_tensor).numpy()"
   ]
  },
  {
   "cell_type": "code",
   "execution_count": 49,
   "metadata": {},
   "outputs": [
    {
     "name": "stdout",
     "output_type": "stream",
     "text": [
      "Perkalian :\n"
     ]
    },
    {
     "data": {
      "text/plain": [
       "array([[  -0.521708 ,    2.5149143,   -5.8773937,    2.2584176,\n",
       "          -5.227879 ],\n",
       "       [  -2.7154737,    3.4922173,    0.5992226,   25.261295 ,\n",
       "           8.895576 ],\n",
       "       [   8.316622 ,  -15.477778 ,   22.53538  ,   78.971214 ,\n",
       "          25.523388 ],\n",
       "       [  13.523431 ,  -24.187279 ,  -44.901516 ,   11.4117775,\n",
       "          42.981663 ],\n",
       "       [  60.83476  ,   87.47237  , -206.58127  ,  -95.42489  ,\n",
       "         -66.86103  ]], dtype=float32)"
      ]
     },
     "execution_count": 49,
     "metadata": {},
     "output_type": "execute_result"
    }
   ],
   "source": [
    "print(\"Perkalian :\")\n",
    "tf.multiply(random_tensor,prime_tensor).numpy()"
   ]
  },
  {
   "cell_type": "code",
   "execution_count": 50,
   "metadata": {},
   "outputs": [
    {
     "name": "stdout",
     "output_type": "stream",
     "text": [
      "Pembagian :\n"
     ]
    },
    {
     "data": {
      "text/plain": [
       "array([[-0.130427  ,  0.27943492, -0.23509574,  0.04609016, -0.04320561],\n",
       "       [-0.01606789,  0.0120838 ,  0.0016599 ,  0.04775292,  0.01057738],\n",
       "       [ 0.00865413, -0.0113059 ,  0.01340594,  0.04271023,  0.01155427],\n",
       "       [ 0.00481432, -0.00694837, -0.01206706,  0.00226379,  0.00806561],\n",
       "       [ 0.0097476 ,  0.0126974 , -0.0260802 , -0.01014187, -0.00655436]],\n",
       "      dtype=float32)"
      ]
     },
     "execution_count": 50,
     "metadata": {},
     "output_type": "execute_result"
    }
   ],
   "source": [
    "print(\"Pembagian :\")\n",
    "tf.divide(random_tensor,prime_tensor).numpy()"
   ]
  },
  {
   "cell_type": "code",
   "execution_count": 51,
   "metadata": {},
   "outputs": [
    {
     "name": "stdout",
     "output_type": "stream",
     "text": [
      "Penjumlahan :\n"
     ]
    },
    {
     "data": {
      "text/plain": [
       "array([[ 6.8044811e-02,  5.8912277e-01, -2.2442634e+00,  3.6386770e-04,\n",
       "        -2.7942235e-04],\n",
       "       [-1.4412159e-09,  2.0658069e-12,  3.0050881e-29,  8.6444740e+00,\n",
       "         1.3076917e-15],\n",
       "       [ 1.9326045e-18, -9.9027350e-15,  2.2045586e-11,  2.2491347e+11,\n",
       "         3.4474856e-13],\n",
       "       [ 3.6390202e-32, -1.4169868e-23, -7.6348616e-09,  0.0000000e+00,\n",
       "         1.6110337e-17],\n",
       "       [ 1.0850540e-09,  7.7947151e+01, -3.5268258e+32, -2.0432547e-01,\n",
       "        -8.0541759e-19]], dtype=float32)"
      ]
     },
     "execution_count": 51,
     "metadata": {},
     "output_type": "execute_result"
    }
   ],
   "source": [
    "print(\"Penjumlahan :\")\n",
    "tf.pow(random_tensor,prime_tensor).numpy()"
   ]
  },
  {
   "cell_type": "code",
   "execution_count": 52,
   "metadata": {},
   "outputs": [
    {
     "name": "stdout",
     "output_type": "stream",
     "text": [
      "Perkalian + Penjumlahan :\n",
      "tf.Tensor(\n",
      "[[   1.217438      6.353219     -2.0528724     9.581049      5.2968593 ]\n",
      " [  10.075644     20.697643     19.63076      49.35961      38.20232   ]\n",
      " [  39.5849       21.1039       64.08502     123.807755     73.06644   ]\n",
      " [  66.77859      34.402767     15.362392     82.57251     116.57045   ]\n",
      " [ 140.60481     171.52625    -119.902405      0.59134674   33.476982  ]], shape=(5, 5), dtype=float32)\n"
     ]
    }
   ],
   "source": [
    "print(\"Perkalian + Penjumlahan :\")\n",
    "\n",
    "a = tf.multiply(prime_tensor,random_tensor) + tf.add(prime_tensor, random_tensor)\n",
    "print(a)"
   ]
  },
  {
   "cell_type": "markdown",
   "metadata": {},
   "source": [
    "### Nilai Max & Min Tensor Random"
   ]
  },
  {
   "cell_type": "markdown",
   "metadata": {},
   "source": [
    "* Nilai Maximum"
   ]
  },
  {
   "cell_type": "code",
   "execution_count": 55,
   "metadata": {},
   "outputs": [
    {
     "data": {
      "text/plain": [
       "array([4, 4, 2, 2, 3], dtype=int64)"
      ]
     },
     "execution_count": 55,
     "metadata": {},
     "output_type": "execute_result"
    }
   ],
   "source": [
    "max = tf.argmax(random_tensor)\n",
    "max.numpy()"
   ]
  },
  {
   "cell_type": "code",
   "execution_count": 59,
   "metadata": {},
   "outputs": [
    {
     "data": {
      "text/plain": [
       "1.8365399"
      ]
     },
     "execution_count": 59,
     "metadata": {},
     "output_type": "execute_result"
    }
   ],
   "source": [
    "max1 = tf.reduce_max(random_tensor)\n",
    "max1.numpy()\n"
   ]
  },
  {
   "cell_type": "markdown",
   "metadata": {},
   "source": [
    "* Nilai Minimum"
   ]
  },
  {
   "cell_type": "code",
   "execution_count": 56,
   "metadata": {},
   "outputs": [
    {
     "data": {
      "text/plain": [
       "array([0, 2, 4, 4, 4], dtype=int64)"
      ]
     },
     "execution_count": 56,
     "metadata": {},
     "output_type": "execute_result"
    }
   ],
   "source": [
    "min = tf.argmin(random_tensor)\n",
    "min.numpy()"
   ]
  },
  {
   "cell_type": "code",
   "execution_count": 61,
   "metadata": {},
   "outputs": [
    {
     "data": {
      "text/plain": [
       "-2.321138"
      ]
     },
     "execution_count": 61,
     "metadata": {},
     "output_type": "execute_result"
    }
   ],
   "source": [
    "min1 = tf.reduce_min(random_tensor)\n",
    "min1.numpy()"
   ]
  },
  {
   "cell_type": "markdown",
   "metadata": {},
   "source": [
    "### Concatenation Tensor Random & Tensor Prime"
   ]
  },
  {
   "cell_type": "code",
   "execution_count": 66,
   "metadata": {},
   "outputs": [
    {
     "data": {
      "text/plain": [
       "array([[ 2.0000000e+00,  3.0000000e+00,  5.0000000e+00,  7.0000000e+00,\n",
       "         1.1000000e+01, -2.6085401e-01,  8.3830476e-01, -1.1754787e+00,\n",
       "         3.2263109e-01, -4.7526172e-01],\n",
       "       [ 1.3000000e+01,  1.7000000e+01,  1.9000000e+01,  2.3000000e+01,\n",
       "         2.9000000e+01, -2.0888259e-01,  2.0542455e-01,  3.1538032e-02,\n",
       "         1.0983171e+00,  3.0674398e-01],\n",
       "       [ 3.1000000e+01,  3.7000000e+01,  4.1000000e+01,  4.3000000e+01,\n",
       "         4.7000000e+01,  2.6827812e-01, -4.1831833e-01,  5.4964340e-01,\n",
       "         1.8365399e+00,  5.4305083e-01],\n",
       "       [ 5.3000000e+01,  5.9000000e+01,  6.1000000e+01,  7.1000000e+01,\n",
       "         7.3000000e+01,  2.5515908e-01, -4.0995389e-01, -7.3609042e-01,\n",
       "         1.6072926e-01,  5.8878988e-01],\n",
       "       [ 7.9000000e+01,  8.3000000e+01,  8.9000000e+01,  9.7000000e+01,\n",
       "         1.0100000e+02,  7.7006024e-01,  1.0538839e+00, -2.3211379e+00,\n",
       "        -9.8376173e-01, -6.6199040e-01]], dtype=float32)"
      ]
     },
     "execution_count": 66,
     "metadata": {},
     "output_type": "execute_result"
    }
   ],
   "source": [
    "concat = tf.concat([prime_tensor,random_tensor], axis=1)\n",
    "concat.numpy()"
   ]
  },
  {
   "cell_type": "markdown",
   "metadata": {},
   "source": [
    "### Sorting Tensor Random & Tensor Prime Secara Descending"
   ]
  },
  {
   "cell_type": "code",
   "execution_count": 68,
   "metadata": {},
   "outputs": [
    {
     "data": {
      "text/plain": [
       "array([[ 1.1000000e+01,  7.0000000e+00,  5.0000000e+00,  3.0000000e+00,\n",
       "         2.0000000e+00,  8.3830476e-01,  3.2263109e-01, -2.6085401e-01,\n",
       "        -4.7526172e-01, -1.1754787e+00],\n",
       "       [ 2.9000000e+01,  2.3000000e+01,  1.9000000e+01,  1.7000000e+01,\n",
       "         1.3000000e+01,  1.0983171e+00,  3.0674398e-01,  2.0542455e-01,\n",
       "         3.1538032e-02, -2.0888259e-01],\n",
       "       [ 4.7000000e+01,  4.3000000e+01,  4.1000000e+01,  3.7000000e+01,\n",
       "         3.1000000e+01,  1.8365399e+00,  5.4964340e-01,  5.4305083e-01,\n",
       "         2.6827812e-01, -4.1831833e-01],\n",
       "       [ 7.3000000e+01,  7.1000000e+01,  6.1000000e+01,  5.9000000e+01,\n",
       "         5.3000000e+01,  5.8878988e-01,  2.5515908e-01,  1.6072926e-01,\n",
       "        -4.0995389e-01, -7.3609042e-01],\n",
       "       [ 1.0100000e+02,  9.7000000e+01,  8.9000000e+01,  8.3000000e+01,\n",
       "         7.9000000e+01,  1.0538839e+00,  7.7006024e-01, -6.6199040e-01,\n",
       "        -9.8376173e-01, -2.3211379e+00]], dtype=float32)"
      ]
     },
     "execution_count": 68,
     "metadata": {},
     "output_type": "execute_result"
    }
   ],
   "source": [
    "sort = tf.sort(concat, direction=\"DESCENDING\")\n",
    "sort.numpy()"
   ]
  }
 ],
 "metadata": {
  "kernelspec": {
   "display_name": "Python 3",
   "language": "python",
   "name": "python3"
  },
  "language_info": {
   "codemirror_mode": {
    "name": "ipython",
    "version": 3
   },
   "file_extension": ".py",
   "mimetype": "text/x-python",
   "name": "python",
   "nbconvert_exporter": "python",
   "pygments_lexer": "ipython3",
   "version": "3.10.7"
  },
  "orig_nbformat": 4,
  "vscode": {
   "interpreter": {
    "hash": "4bc3c14535ba198ac403d8b0a5a2d23428a5da826104b9a0c9c35d272c2c2677"
   }
  }
 },
 "nbformat": 4,
 "nbformat_minor": 2
}
