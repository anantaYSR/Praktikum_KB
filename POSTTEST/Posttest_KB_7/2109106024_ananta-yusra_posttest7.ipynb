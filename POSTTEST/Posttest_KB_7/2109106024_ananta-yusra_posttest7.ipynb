{
 "cells": [
  {
   "cell_type": "markdown",
   "metadata": {},
   "source": [
    "# POSTTEST 7\n",
    "\n",
    "* Nama  : Ananta Yusra Putra Akmal \n",
    "* NIM   : 2109106024\n",
    "* Kelas : A1 2021\n",
    "\n",
    "* Dataset = Credit Risk"
   ]
  },
  {
   "cell_type": "code",
   "execution_count": 1,
   "metadata": {},
   "outputs": [],
   "source": [
    "import tensorflow as tf"
   ]
  },
  {
   "cell_type": "markdown",
   "metadata": {},
   "source": [
    "### Random Tensor"
   ]
  },
  {
   "cell_type": "code",
   "execution_count": 2,
   "metadata": {},
   "outputs": [
    {
     "data": {
      "text/plain": [
       "array([[ 1.1669061 ,  2.8999763 ,  2.2311707 ,  0.8188387 ,  1.1998153 ],\n",
       "       [ 2.0844169 ,  0.5037217 ,  4.3848433 ,  2.672774  ,  3.318078  ],\n",
       "       [ 0.7592857 ,  3.9148016 ,  2.1064856 , -0.26909542,  2.069219  ],\n",
       "       [ 3.5886583 ,  3.6001315 ,  2.369826  ,  0.21126986,  2.6921098 ],\n",
       "       [ 1.9488378 ,  0.9112145 ,  2.521164  ,  0.8006438 ,  1.8151661 ]],\n",
       "      dtype=float32)"
      ]
     },
     "execution_count": 2,
     "metadata": {},
     "output_type": "execute_result"
    }
   ],
   "source": [
    "random_tensor = tf.random.normal([5,5], mean=2)\n",
    "random_tensor.numpy()"
   ]
  },
  {
   "cell_type": "markdown",
   "metadata": {},
   "source": [
    "### Constan Tensor"
   ]
  },
  {
   "cell_type": "code",
   "execution_count": 3,
   "metadata": {},
   "outputs": [
    {
     "data": {
      "text/plain": [
       "array([[  2.,   3.,   5.,   7.,  11.],\n",
       "       [ 13.,  17.,  19.,  23.,  29.],\n",
       "       [ 31.,  37.,  41.,  43.,  47.],\n",
       "       [ 53.,  59.,  61.,  71.,  73.],\n",
       "       [ 79.,  83.,  89.,  97., 101.]], dtype=float32)"
      ]
     },
     "execution_count": 3,
     "metadata": {},
     "output_type": "execute_result"
    }
   ],
   "source": [
    "# Shape 5 x 5 maka total bilangan = 25\n",
    "\n",
    "prime_tensor = tf.constant([2,3,5,7,11,13,17,19,23,29,31,37,41,43,47,53,59,61,71,73,79,83,89,97,101],shape=(5,5),dtype=tf.float32)\n",
    "prime_tensor.numpy()"
   ]
  },
  {
   "cell_type": "markdown",
   "metadata": {},
   "source": [
    "### Dimensi Tensor Random & Tensor Constan"
   ]
  },
  {
   "cell_type": "code",
   "execution_count": 4,
   "metadata": {},
   "outputs": [
    {
     "name": "stdout",
     "output_type": "stream",
     "text": [
      "Random  :  (5, 5)\n",
      "Constan :  (5, 5)\n"
     ]
    }
   ],
   "source": [
    "print(\"Random  : \",random_tensor.shape)\n",
    "print(\"Constan : \",prime_tensor.shape)"
   ]
  },
  {
   "cell_type": "markdown",
   "metadata": {},
   "source": [
    "### Perhituangan Aritmatika Tensor Random & Tensor Constan"
   ]
  },
  {
   "cell_type": "code",
   "execution_count": 5,
   "metadata": {},
   "outputs": [
    {
     "name": "stdout",
     "output_type": "stream",
     "text": [
      "Penjumlahan :\n"
     ]
    },
    {
     "data": {
      "text/plain": [
       "array([[  3.166906 ,   5.8999763,   7.2311707,   7.8188386,  12.199816 ],\n",
       "       [ 15.084417 ,  17.503721 ,  23.384844 ,  25.672773 ,  32.318077 ],\n",
       "       [ 31.759285 ,  40.914803 ,  43.106487 ,  42.730904 ,  49.069218 ],\n",
       "       [ 56.588657 ,  62.600132 ,  63.369827 ,  71.21127  ,  75.69211  ],\n",
       "       [ 80.94884  ,  83.91122  ,  91.521164 ,  97.800644 , 102.81516  ]],\n",
       "      dtype=float32)"
      ]
     },
     "execution_count": 5,
     "metadata": {},
     "output_type": "execute_result"
    }
   ],
   "source": [
    "print(\"Penjumlahan :\")\n",
    "tf.add(random_tensor,prime_tensor).numpy()"
   ]
  },
  {
   "cell_type": "code",
   "execution_count": 6,
   "metadata": {},
   "outputs": [
    {
     "name": "stdout",
     "output_type": "stream",
     "text": [
      "Pengurangan :\n"
     ]
    },
    {
     "data": {
      "text/plain": [
       "array([[ -0.8330939 ,  -0.10002375,  -2.7688293 ,  -6.1811614 ,\n",
       "         -9.800184  ],\n",
       "       [-10.915583  , -16.496279  , -14.615156  , -20.327227  ,\n",
       "        -25.681923  ],\n",
       "       [-30.240715  , -33.085197  , -38.893513  , -43.269096  ,\n",
       "        -44.930782  ],\n",
       "       [-49.411343  , -55.399868  , -58.630173  , -70.78873   ,\n",
       "        -70.30789   ],\n",
       "       [-77.05116   , -82.08878   , -86.478836  , -96.199356  ,\n",
       "        -99.18484   ]], dtype=float32)"
      ]
     },
     "execution_count": 6,
     "metadata": {},
     "output_type": "execute_result"
    }
   ],
   "source": [
    "print(\"Pengurangan :\")\n",
    "tf.subtract(random_tensor,prime_tensor).numpy()"
   ]
  },
  {
   "cell_type": "code",
   "execution_count": 7,
   "metadata": {},
   "outputs": [
    {
     "name": "stdout",
     "output_type": "stream",
     "text": [
      "Perkalian :\n"
     ]
    },
    {
     "data": {
      "text/plain": [
       "array([[  2.3338122,   8.699928 ,  11.155853 ,   5.731871 ,  13.197968 ],\n",
       "       [ 27.09742  ,   8.563269 ,  83.31203  ,  61.473804 ,  96.224266 ],\n",
       "       [ 23.537857 , 144.84766  ,  86.36591  , -11.571103 ,  97.253296 ],\n",
       "       [190.1989   , 212.40776  , 144.55939  ,  15.00016  , 196.52402  ],\n",
       "       [153.95818  ,  75.6308   , 224.38359  ,  77.662445 , 183.33177  ]],\n",
       "      dtype=float32)"
      ]
     },
     "execution_count": 7,
     "metadata": {},
     "output_type": "execute_result"
    }
   ],
   "source": [
    "print(\"Perkalian :\")\n",
    "tf.multiply(random_tensor,prime_tensor).numpy()"
   ]
  },
  {
   "cell_type": "code",
   "execution_count": 8,
   "metadata": {},
   "outputs": [
    {
     "name": "stdout",
     "output_type": "stream",
     "text": [
      "Pembagian :\n"
     ]
    },
    {
     "data": {
      "text/plain": [
       "array([[ 0.58345306,  0.9666588 ,  0.44623414,  0.11697696,  0.10907412],\n",
       "       [ 0.16033976,  0.02963069,  0.23078123,  0.11620757,  0.11441649],\n",
       "       [ 0.02449309,  0.10580545,  0.0513777 , -0.00625803,  0.04402594],\n",
       "       [ 0.06771053,  0.06101918,  0.03884961,  0.00297563,  0.03687822],\n",
       "       [ 0.02466883,  0.01097849,  0.02832768,  0.00825406,  0.01797194]],\n",
       "      dtype=float32)"
      ]
     },
     "execution_count": 8,
     "metadata": {},
     "output_type": "execute_result"
    }
   ],
   "source": [
    "print(\"Pembagian :\")\n",
    "tf.divide(random_tensor,prime_tensor).numpy()"
   ]
  },
  {
   "cell_type": "code",
   "execution_count": 9,
   "metadata": {},
   "outputs": [
    {
     "name": "stdout",
     "output_type": "stream",
     "text": [
      "Perkalian + Penjumlahan :\n",
      "tf.Tensor(\n",
      "[[  5.500718  14.599905  18.387024  13.55071   25.397783]\n",
      " [ 42.18184   26.06699  106.69687   87.146576 128.54234 ]\n",
      " [ 55.297142 185.76245  129.4724    31.159801 146.32251 ]\n",
      " [246.78755  275.0079   207.92921   86.21143  272.21613 ]\n",
      " [234.90701  159.54202  315.90475  175.46309  286.14694 ]], shape=(5, 5), dtype=float32)\n"
     ]
    }
   ],
   "source": [
    "print(\"Perkalian + Penjumlahan :\")\n",
    "\n",
    "a = tf.multiply(prime_tensor,random_tensor) + tf.add(prime_tensor, random_tensor)\n",
    "print(a)"
   ]
  },
  {
   "cell_type": "markdown",
   "metadata": {},
   "source": [
    "### Nilai Max & Min Tensor Random"
   ]
  },
  {
   "cell_type": "markdown",
   "metadata": {},
   "source": [
    "* Nilai Maximum"
   ]
  },
  {
   "cell_type": "code",
   "execution_count": 10,
   "metadata": {},
   "outputs": [
    {
     "data": {
      "text/plain": [
       "array([3, 2, 1, 1, 1], dtype=int64)"
      ]
     },
     "execution_count": 10,
     "metadata": {},
     "output_type": "execute_result"
    }
   ],
   "source": [
    "max = tf.argmax(random_tensor)\n",
    "max.numpy()"
   ]
  },
  {
   "cell_type": "code",
   "execution_count": 11,
   "metadata": {},
   "outputs": [
    {
     "data": {
      "text/plain": [
       "4.3848433"
      ]
     },
     "execution_count": 11,
     "metadata": {},
     "output_type": "execute_result"
    }
   ],
   "source": [
    "max1 = tf.reduce_max(random_tensor)\n",
    "max1.numpy()\n"
   ]
  },
  {
   "cell_type": "markdown",
   "metadata": {},
   "source": [
    "* Nilai Minimum"
   ]
  },
  {
   "cell_type": "code",
   "execution_count": 12,
   "metadata": {},
   "outputs": [
    {
     "data": {
      "text/plain": [
       "array([2, 1, 2, 2, 0], dtype=int64)"
      ]
     },
     "execution_count": 12,
     "metadata": {},
     "output_type": "execute_result"
    }
   ],
   "source": [
    "min = tf.argmin(random_tensor)\n",
    "min.numpy()"
   ]
  },
  {
   "cell_type": "code",
   "execution_count": 13,
   "metadata": {},
   "outputs": [
    {
     "data": {
      "text/plain": [
       "-0.26909542"
      ]
     },
     "execution_count": 13,
     "metadata": {},
     "output_type": "execute_result"
    }
   ],
   "source": [
    "min1 = tf.reduce_min(random_tensor)\n",
    "min1.numpy()"
   ]
  },
  {
   "cell_type": "markdown",
   "metadata": {},
   "source": [
    "### Concatenation Tensor Random & Tensor Prime"
   ]
  },
  {
   "cell_type": "code",
   "execution_count": 14,
   "metadata": {},
   "outputs": [
    {
     "data": {
      "text/plain": [
       "array([[  2.        ,   3.        ,   5.        ,   7.        ,\n",
       "         11.        ,   1.1669061 ,   2.8999763 ,   2.2311707 ,\n",
       "          0.8188387 ,   1.1998153 ],\n",
       "       [ 13.        ,  17.        ,  19.        ,  23.        ,\n",
       "         29.        ,   2.0844169 ,   0.5037217 ,   4.3848433 ,\n",
       "          2.672774  ,   3.318078  ],\n",
       "       [ 31.        ,  37.        ,  41.        ,  43.        ,\n",
       "         47.        ,   0.7592857 ,   3.9148016 ,   2.1064856 ,\n",
       "         -0.26909542,   2.069219  ],\n",
       "       [ 53.        ,  59.        ,  61.        ,  71.        ,\n",
       "         73.        ,   3.5886583 ,   3.6001315 ,   2.369826  ,\n",
       "          0.21126986,   2.6921098 ],\n",
       "       [ 79.        ,  83.        ,  89.        ,  97.        ,\n",
       "        101.        ,   1.9488378 ,   0.9112145 ,   2.521164  ,\n",
       "          0.8006438 ,   1.8151661 ]], dtype=float32)"
      ]
     },
     "execution_count": 14,
     "metadata": {},
     "output_type": "execute_result"
    }
   ],
   "source": [
    "concat = tf.concat([prime_tensor,random_tensor], axis=1)\n",
    "concat.numpy()"
   ]
  },
  {
   "cell_type": "markdown",
   "metadata": {},
   "source": [
    "### Sorting Tensor Random & Tensor Prime Secara Descending"
   ]
  },
  {
   "cell_type": "markdown",
   "metadata": {},
   "source": [
    "* Sorting Tensor Random"
   ]
  },
  {
   "cell_type": "code",
   "execution_count": 15,
   "metadata": {},
   "outputs": [
    {
     "data": {
      "text/plain": [
       "array([[ 2.8999763 ,  2.2311707 ,  1.1998153 ,  1.1669061 ,  0.8188387 ],\n",
       "       [ 4.3848433 ,  3.318078  ,  2.672774  ,  2.0844169 ,  0.5037217 ],\n",
       "       [ 3.9148016 ,  2.1064856 ,  2.069219  ,  0.7592857 , -0.26909542],\n",
       "       [ 3.6001315 ,  3.5886583 ,  2.6921098 ,  2.369826  ,  0.21126986],\n",
       "       [ 2.521164  ,  1.9488378 ,  1.8151661 ,  0.9112145 ,  0.8006438 ]],\n",
       "      dtype=float32)"
      ]
     },
     "execution_count": 15,
     "metadata": {},
     "output_type": "execute_result"
    }
   ],
   "source": [
    "# Descending dari kanan ke kiri\n",
    "random_sort = tf.sort(random_tensor, direction=\"DESCENDING\")\n",
    "random_sort.numpy()"
   ]
  },
  {
   "cell_type": "markdown",
   "metadata": {},
   "source": [
    "* Sorting Tensor Prime"
   ]
  },
  {
   "cell_type": "code",
   "execution_count": 16,
   "metadata": {},
   "outputs": [
    {
     "data": {
      "text/plain": [
       "array([[ 11.,   7.,   5.,   3.,   2.],\n",
       "       [ 29.,  23.,  19.,  17.,  13.],\n",
       "       [ 47.,  43.,  41.,  37.,  31.],\n",
       "       [ 73.,  71.,  61.,  59.,  53.],\n",
       "       [101.,  97.,  89.,  83.,  79.]], dtype=float32)"
      ]
     },
     "execution_count": 16,
     "metadata": {},
     "output_type": "execute_result"
    }
   ],
   "source": [
    "# Descending dari atas ke bawah\n",
    "prime_sort = tf.sort(prime_tensor, direction=\"DESCENDING\")\n",
    "prime_sort.numpy()"
   ]
  },
  {
   "cell_type": "markdown",
   "metadata": {},
   "source": [
    "* Sorting Concatenation (penggabungan)"
   ]
  },
  {
   "cell_type": "code",
   "execution_count": 17,
   "metadata": {},
   "outputs": [
    {
     "data": {
      "text/plain": [
       "array([[ 11.        ,   7.        ,   5.        ,   3.        ,\n",
       "          2.8999763 ,   2.2311707 ,   2.        ,   1.1998153 ,\n",
       "          1.1669061 ,   0.8188387 ],\n",
       "       [ 29.        ,  23.        ,  19.        ,  17.        ,\n",
       "         13.        ,   4.3848433 ,   3.318078  ,   2.672774  ,\n",
       "          2.0844169 ,   0.5037217 ],\n",
       "       [ 47.        ,  43.        ,  41.        ,  37.        ,\n",
       "         31.        ,   3.9148016 ,   2.1064856 ,   2.069219  ,\n",
       "          0.7592857 ,  -0.26909542],\n",
       "       [ 73.        ,  71.        ,  61.        ,  59.        ,\n",
       "         53.        ,   3.6001315 ,   3.5886583 ,   2.6921098 ,\n",
       "          2.369826  ,   0.21126986],\n",
       "       [101.        ,  97.        ,  89.        ,  83.        ,\n",
       "         79.        ,   2.521164  ,   1.9488378 ,   1.8151661 ,\n",
       "          0.9112145 ,   0.8006438 ]], dtype=float32)"
      ]
     },
     "execution_count": 17,
     "metadata": {},
     "output_type": "execute_result"
    }
   ],
   "source": [
    "sort = tf.sort(concat, direction=\"DESCENDING\")\n",
    "sort.numpy()"
   ]
  }
 ],
 "metadata": {
  "kernelspec": {
   "display_name": "Python 3",
   "language": "python",
   "name": "python3"
  },
  "language_info": {
   "codemirror_mode": {
    "name": "ipython",
    "version": 3
   },
   "file_extension": ".py",
   "mimetype": "text/x-python",
   "name": "python",
   "nbconvert_exporter": "python",
   "pygments_lexer": "ipython3",
   "version": "3.10.7"
  },
  "orig_nbformat": 4,
  "vscode": {
   "interpreter": {
    "hash": "4bc3c14535ba198ac403d8b0a5a2d23428a5da826104b9a0c9c35d272c2c2677"
   }
  }
 },
 "nbformat": 4,
 "nbformat_minor": 2
}
